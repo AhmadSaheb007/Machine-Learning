{
 "cells": [
  {
   "cell_type": "code",
   "execution_count": 1,
   "id": "b4025fbe",
   "metadata": {},
   "outputs": [
    {
     "name": "stdout",
     "output_type": "stream",
     "text": [
      "3\n",
      "5\n",
      "7\n",
      "9\n",
      "10\n"
     ]
    }
   ],
   "source": [
    "list1 = [3,5,7,9,10]\n",
    "for i in list1:\n",
    "    print(i)"
   ]
  },
  {
   "cell_type": "code",
   "execution_count": 7,
   "id": "7b919917",
   "metadata": {},
   "outputs": [
    {
     "name": "stdout",
     "output_type": "stream",
     "text": [
      "3\n",
      "5\n",
      "7\n",
      "9\n",
      "10\n"
     ]
    }
   ],
   "source": [
    "list1 = [3,5,7,9,10]\n",
    "s = 0\n",
    "e = len(list1)\n",
    "for i in range(s,e):\n",
    "    print(list1[i])"
   ]
  },
  {
   "cell_type": "code",
   "execution_count": 6,
   "id": "b3ca43e8",
   "metadata": {},
   "outputs": [
    {
     "name": "stdout",
     "output_type": "stream",
     "text": [
      "3\n",
      "5\n",
      "7\n",
      "9\n",
      "10\n"
     ]
    }
   ],
   "source": [
    "s = 0\n",
    "e = len(list1)\n",
    "while (s<e):\n",
    "    print(list1[s])\n",
    "    s=s+1"
   ]
  },
  {
   "cell_type": "code",
   "execution_count": 13,
   "id": "b15380a0",
   "metadata": {},
   "outputs": [
    {
     "name": "stdout",
     "output_type": "stream",
     "text": [
      "non prime\n"
     ]
    }
   ],
   "source": [
    "n = 9\n",
    "assume = 'prime'\n",
    "for element in range(2,n):\n",
    "    if n%element == 0:\n",
    "        assume= 'non prime'\n",
    "\n",
    "print(assume)"
   ]
  },
  {
   "cell_type": "code",
   "execution_count": 75,
   "id": "e1e720a0",
   "metadata": {},
   "outputs": [],
   "source": [
    "def check_prime(n):\n",
    "    assume = 'prime'\n",
    "    for element in range(2,n):\n",
    "        if n%element == 0:\n",
    "            assume= 'non prime'\n",
    "            break\n",
    "\n",
    "    print('The value of ',n,'is ',assume)\n",
    "    return(assume)"
   ]
  },
  {
   "cell_type": "code",
   "execution_count": 76,
   "id": "1b1ef564",
   "metadata": {},
   "outputs": [
    {
     "name": "stdout",
     "output_type": "stream",
     "text": [
      "The value of  4 is  non prime\n"
     ]
    }
   ],
   "source": [
    "result =  check_prime(4)"
   ]
  },
  {
   "cell_type": "code",
   "execution_count": 64,
   "id": "10d531b6",
   "metadata": {},
   "outputs": [
    {
     "data": {
      "text/plain": [
       "'prime'"
      ]
     },
     "execution_count": 64,
     "metadata": {},
     "output_type": "execute_result"
    }
   ],
   "source": [
    "result"
   ]
  },
  {
   "cell_type": "code",
   "execution_count": null,
   "id": "00788941",
   "metadata": {},
   "outputs": [],
   "source": [
    "what is a prime number?\n",
    "a number which can be divisible by 1 or number itself\n",
    "\n",
    "13 - (prime) 1,13 (2,12)"
   ]
  },
  {
   "cell_type": "code",
   "execution_count": 14,
   "id": "ab630b97",
   "metadata": {},
   "outputs": [
    {
     "name": "stdout",
     "output_type": "stream",
     "text": [
      "11\n"
     ]
    }
   ],
   "source": [
    "a = 5\n",
    "b = 6\n",
    "c = a+b\n",
    "print(c)"
   ]
  },
  {
   "cell_type": "code",
   "execution_count": 34,
   "id": "75ecc7ab",
   "metadata": {},
   "outputs": [],
   "source": [
    "# unparameterized\n",
    "def summation_unparam():\n",
    "    a = 5\n",
    "    b = 6\n",
    "    c = a+b\n",
    "    print(c)"
   ]
  },
  {
   "cell_type": "code",
   "execution_count": 35,
   "id": "ddde08ed",
   "metadata": {},
   "outputs": [
    {
     "name": "stdout",
     "output_type": "stream",
     "text": [
      "11\n"
     ]
    }
   ],
   "source": [
    "summation_unparam()"
   ]
  },
  {
   "cell_type": "code",
   "execution_count": 36,
   "id": "03fb37dd",
   "metadata": {},
   "outputs": [],
   "source": [
    "# parameter\n",
    "def summation_param(a,b,oper):\n",
    "    if oper == 'add':\n",
    "        c = a+b\n",
    "    elif oper =='sub':\n",
    "        c = a-b\n",
    "    print(c)"
   ]
  },
  {
   "cell_type": "code",
   "execution_count": 37,
   "id": "d9c49a91",
   "metadata": {},
   "outputs": [
    {
     "name": "stdout",
     "output_type": "stream",
     "text": [
      "5\n"
     ]
    }
   ],
   "source": [
    "summation_param(2,3,'add')"
   ]
  },
  {
   "cell_type": "code",
   "execution_count": 38,
   "id": "f7d87f53",
   "metadata": {},
   "outputs": [
    {
     "name": "stdout",
     "output_type": "stream",
     "text": [
      "-1\n"
     ]
    }
   ],
   "source": [
    "summation_param(2,3,'sub')"
   ]
  },
  {
   "cell_type": "code",
   "execution_count": null,
   "id": "15bfa318",
   "metadata": {},
   "outputs": [],
   "source": []
  },
  {
   "cell_type": "code",
   "execution_count": 78,
   "id": "3b266a8c",
   "metadata": {},
   "outputs": [],
   "source": [
    "def check_prime(n):\n",
    "    assume = 'prime'\n",
    "    for element in range(2,n):\n",
    "        if n%element == 0:\n",
    "            assume= 'non prime'\n",
    "            break\n",
    "    return(assume)"
   ]
  },
  {
   "cell_type": "code",
   "execution_count": 79,
   "id": "65b32f57",
   "metadata": {},
   "outputs": [],
   "source": [
    "# 1. print all the prime numbers from the range 1,100\n",
    "# 2. print first 1000 prime numbers"
   ]
  },
  {
   "cell_type": "code",
   "execution_count": 83,
   "id": "908855b7",
   "metadata": {},
   "outputs": [
    {
     "name": "stdout",
     "output_type": "stream",
     "text": [
      "2\n",
      "3\n",
      "5\n",
      "7\n",
      "11\n",
      "13\n",
      "17\n",
      "19\n",
      "23\n",
      "29\n"
     ]
    }
   ],
   "source": [
    "counter = 1\n",
    "i = 2\n",
    "while(counter<=1000):\n",
    "    result = check_prime(i)\n",
    "    if result =='prime':\n",
    "        print(i)\n",
    "        counter = counter + 1\n",
    "    i = i+1\n",
    "        "
   ]
  },
  {
   "cell_type": "code",
   "execution_count": 80,
   "id": "0509a4c8",
   "metadata": {},
   "outputs": [
    {
     "name": "stdout",
     "output_type": "stream",
     "text": [
      "The number 1  the count is 1\n",
      "The number 2  the count is 2\n",
      "The number 3  the count is 3\n",
      "The number 4  the count is 4\n",
      "The number 5  the count is 4\n",
      "The number 6  the count is 5\n",
      "The number 7  the count is 5\n",
      "The number 8  the count is 6\n",
      "The number 9  the count is 6\n",
      "The number 10  the count is 6\n",
      "The number 11  the count is 6\n",
      "The number 12  the count is 7\n",
      "The number 13  the count is 7\n",
      "The number 14  the count is 8\n",
      "The number 15  the count is 8\n",
      "The number 16  the count is 8\n",
      "The number 17  the count is 8\n",
      "The number 18  the count is 9\n",
      "The number 19  the count is 9\n",
      "The number 20  the count is 10\n",
      "The number 21  the count is 10\n",
      "The number 22  the count is 10\n",
      "The number 23  the count is 10\n"
     ]
    }
   ],
   "source": [
    "counter = 1\n",
    "for i in range(1,100000):\n",
    "    if i == 1:\n",
    "        pass\n",
    "    print('The number',i,' the count is',counter)\n",
    "    result = check_prime(i)\n",
    "    if result =='prime':\n",
    "        counter = counter + 1\n",
    "        if counter>10:\n",
    "            break\n"
   ]
  },
  {
   "cell_type": "code",
   "execution_count": null,
   "id": "4d1f514a",
   "metadata": {},
   "outputs": [],
   "source": []
  },
  {
   "cell_type": "code",
   "execution_count": null,
   "id": "790569c2",
   "metadata": {},
   "outputs": [],
   "source": []
  },
  {
   "cell_type": "code",
   "execution_count": 69,
   "id": "b4572eaf",
   "metadata": {},
   "outputs": [
    {
     "name": "stdout",
     "output_type": "stream",
     "text": [
      "1\n",
      "2\n",
      "3\n",
      "5\n",
      "7\n",
      "11\n",
      "13\n",
      "17\n",
      "19\n",
      "23\n",
      "29\n",
      "31\n",
      "37\n",
      "41\n",
      "43\n",
      "47\n",
      "53\n",
      "59\n",
      "61\n",
      "67\n",
      "71\n",
      "73\n",
      "79\n",
      "83\n",
      "89\n",
      "97\n"
     ]
    }
   ],
   "source": [
    "for i in range(1,100):\n",
    "    result = check_prime(i)\n",
    "    if result =='prime':\n",
    "        print(i)"
   ]
  },
  {
   "cell_type": "code",
   "execution_count": 92,
   "id": "7067eef6",
   "metadata": {},
   "outputs": [],
   "source": [
    "def sum1(a = 1,b = 4):\n",
    "    return a+b"
   ]
  },
  {
   "cell_type": "code",
   "execution_count": 94,
   "id": "4a344b66",
   "metadata": {},
   "outputs": [
    {
     "data": {
      "text/plain": [
       "22"
      ]
     },
     "execution_count": 94,
     "metadata": {},
     "output_type": "execute_result"
    }
   ],
   "source": [
    "sum1(10,12)"
   ]
  },
  {
   "cell_type": "code",
   "execution_count": null,
   "id": "c24fbfb1",
   "metadata": {},
   "outputs": [],
   "source": [
    "print first 10 armstrong numbers"
   ]
  },
  {
   "cell_type": "code",
   "execution_count": null,
   "id": "e3cf01b3",
   "metadata": {},
   "outputs": [],
   "source": [
    "total - 10*10\n",
    "4 sub plot  - 5*5 \n",
    "\n",
    "engineer 1 sub plot 5*5\n",
    "planning or \n",
    "details(class)\n",
    "object"
   ]
  },
  {
   "cell_type": "code",
   "execution_count": 126,
   "id": "dbe68ca9",
   "metadata": {},
   "outputs": [
    {
     "name": "stdout",
     "output_type": "stream",
     "text": [
      "This display function yellow Toyota 2022 v1\n"
     ]
    }
   ],
   "source": [
    "class car:\n",
    "    global model\n",
    "    model = 'v1'\n",
    "    year = 2022\n",
    "    def features(self):\n",
    "        self.color = 'yellow'\n",
    "        self.brand = 'Toyota'\n",
    "\n",
    "    def display(self):\n",
    "        self.features()\n",
    "        print('This display function',self.color,self.brand,self.year,model)\n",
    "    \n",
    "        \n",
    "car_obj = car()\n",
    "car_obj.display()"
   ]
  },
  {
   "cell_type": "code",
   "execution_count": 131,
   "id": "6fd7f17b",
   "metadata": {},
   "outputs": [
    {
     "name": "stdout",
     "output_type": "stream",
     "text": [
      "yellow Toyota\n",
      "This display function yellow Toyota 2022 v1\n"
     ]
    }
   ],
   "source": [
    "class car:\n",
    "    global model\n",
    "    model = 'v1'\n",
    "    year = 2022\n",
    "    # default constructor\n",
    "    def __init__(self):\n",
    "        self.color = 'yellow'\n",
    "        self.brand = 'Toyota'\n",
    "        print(self.color,self.brand)\n",
    "\n",
    "    def display(self):\n",
    "        print('This display function',self.color,self.brand,self.year,model)\n",
    "    \n",
    "        \n",
    "car_obj = car()# call default constructor\n",
    "car_obj.display()"
   ]
  },
  {
   "cell_type": "code",
   "execution_count": 122,
   "id": "4088b39e",
   "metadata": {},
   "outputs": [
    {
     "data": {
      "text/plain": [
       "'v1'"
      ]
     },
     "execution_count": 122,
     "metadata": {},
     "output_type": "execute_result"
    }
   ],
   "source": [
    "model"
   ]
  },
  {
   "cell_type": "code",
   "execution_count": null,
   "id": "243f421d",
   "metadata": {},
   "outputs": [],
   "source": [
    "inheritance,\n",
    "polymorphism\n",
    "encapsulation\n",
    "abstraction\n"
   ]
  }
 ],
 "metadata": {
  "kernelspec": {
   "display_name": "Python 3 (ipykernel)",
   "language": "python",
   "name": "python3"
  },
  "language_info": {
   "codemirror_mode": {
    "name": "ipython",
    "version": 3
   },
   "file_extension": ".py",
   "mimetype": "text/x-python",
   "name": "python",
   "nbconvert_exporter": "python",
   "pygments_lexer": "ipython3",
   "version": "3.9.12"
  }
 },
 "nbformat": 4,
 "nbformat_minor": 5
}
